{
 "cells": [
  {
   "cell_type": "code",
   "execution_count": 7,
   "metadata": {},
   "outputs": [],
   "source": [
    "from tweepy import Stream\n",
    "from tweepy import OAuthHandler\n",
    "from tweepy.streaming import StreamListener\n",
    "import time"
   ]
  },
  {
   "cell_type": "code",
   "execution_count": 8,
   "metadata": {},
   "outputs": [],
   "source": [
    "import json\n",
    "CONSUMER_KEY = \"40M3D2d9haFTmWiHUOqO3Wx7p\"  \n",
    "CONSUMER_SECRET = \"FYdSd8Jcr5OmwQclQ1q1QwPLTwbVw3fX8Z35igJfqzmzLZp8d3\"  \n",
    "OAUTH_TOKEN = \"1103068796036759552-iNLmsLjgYBODHZ1RcZBdsHG7g3d5wt\"  \n",
    "OAUTH_TOKEN_SECRET = \"STv0EL4lsyamXzIYy6CZRE2wmml3toKuXQd5QDIV6nKtZ\" \n",
    "auth = OAuthHandler(CONSUMER_KEY, CONSUMER_SECRET)\n",
    "auth.set_access_token(OAUTH_TOKEN, OAUTH_TOKEN_SECRET)"
   ]
  },
  {
   "cell_type": "code",
   "execution_count": 9,
   "metadata": {},
   "outputs": [],
   "source": [
    "class StdOutListener(StreamListener):\n",
    "\n",
    "    def __init__(self, api=None):\n",
    "        super(StdOutListener, self).__init__()\n",
    "        self.num_tweets = 0\n",
    "\n",
    "    def on_status(self, status):\n",
    "        record = {'news': status.text,'Created At': status.created_at}\n",
    "        print (record)\n",
    "        self.num_tweets += 1\n",
    "        if self.num_tweets < 5:\n",
    "            print (record)\n",
    "            return (True)\n",
    "        else:\n",
    "            return (False)\n",
    "    def on_error(self, status):\n",
    "        print(\"error\" )\n",
    "    \n"
   ]
  },
  {
   "cell_type": "code",
   "execution_count": 10,
   "metadata": {},
   "outputs": [],
   "source": [
    "stream = Stream(auth, StdOutListener())"
   ]
  },
  {
   "cell_type": "code",
   "execution_count": 11,
   "metadata": {},
   "outputs": [],
   "source": [
    "def news(n):\n",
    "    while True:\n",
    "        print(stream.filter(track=[\"videogame\"]))\n",
    "        time.sleep(n)"
   ]
  },
  {
   "cell_type": "code",
   "execution_count": 12,
   "metadata": {},
   "outputs": [
    {
     "name": "stdout",
     "output_type": "stream",
     "text": [
      "{'news': '@Tarciso_ @lifeonrafs @naosalvo mas vc ficou bravo? pesquisadores de “uma universidade americana”: ok. n sei qual o… https://t.co/dBOWHRaeA9', 'Created At': datetime.datetime(2019, 4, 26, 15, 17, 18)}\n",
      "{'news': '@Tarciso_ @lifeonrafs @naosalvo mas vc ficou bravo? pesquisadores de “uma universidade americana”: ok. n sei qual o… https://t.co/dBOWHRaeA9', 'Created At': datetime.datetime(2019, 4, 26, 15, 17, 18)}\n",
      "{'news': 'RT @ConversasYT_: *pac e febatista jogando videogame* \\nbatata: que horas são?\\npac: pera aí *liga o rádio no volume máximo* \\ntayr: QUEM É A…', 'Created At': datetime.datetime(2019, 4, 26, 15, 17, 21)}\n",
      "{'news': 'RT @ConversasYT_: *pac e febatista jogando videogame* \\nbatata: que horas são?\\npac: pera aí *liga o rádio no volume máximo* \\ntayr: QUEM É A…', 'Created At': datetime.datetime(2019, 4, 26, 15, 17, 21)}\n",
      "{'news': 'RT @Hero_Grinder: Name THIS weapon! What would YOU call the latest handgun from Armatech? (We are leaning towards \"The Deckard\")\\n#Herogrind…', 'Created At': datetime.datetime(2019, 4, 26, 15, 17, 21)}\n",
      "{'news': 'RT @Hero_Grinder: Name THIS weapon! What would YOU call the latest handgun from Armatech? (We are leaning towards \"The Deckard\")\\n#Herogrind…', 'Created At': datetime.datetime(2019, 4, 26, 15, 17, 21)}\n",
      "{'news': 'RT @geoffkeighley: Videogame Avengers. #tribeca https://t.co/nHkdLESOZ2', 'Created At': datetime.datetime(2019, 4, 26, 15, 17, 21)}\n",
      "{'news': 'RT @geoffkeighley: Videogame Avengers. #tribeca https://t.co/nHkdLESOZ2', 'Created At': datetime.datetime(2019, 4, 26, 15, 17, 21)}\n",
      "{'news': 'RT @Hero_Grinder: Name THIS weapon! What would YOU call the latest handgun from Armatech? (We are leaning towards \"The Deckard\")\\n#Herogrind…', 'Created At': datetime.datetime(2019, 4, 26, 15, 17, 29)}\n",
      "None\n"
     ]
    },
    {
     "ename": "KeyboardInterrupt",
     "evalue": "",
     "output_type": "error",
     "traceback": [
      "\u001b[0;31m---------------------------------------------------------------------------\u001b[0m",
      "\u001b[0;31mKeyboardInterrupt\u001b[0m                         Traceback (most recent call last)",
      "\u001b[0;32m<ipython-input-12-bfcf1168336e>\u001b[0m in \u001b[0;36m<module>\u001b[0;34m\u001b[0m\n\u001b[0;32m----> 1\u001b[0;31m \u001b[0mnews\u001b[0m\u001b[0;34m(\u001b[0m\u001b[0;36m3600\u001b[0m\u001b[0;34m)\u001b[0m\u001b[0;34m\u001b[0m\u001b[0;34m\u001b[0m\u001b[0m\n\u001b[0m",
      "\u001b[0;32m<ipython-input-11-ab940f8ab68a>\u001b[0m in \u001b[0;36mnews\u001b[0;34m(n)\u001b[0m\n\u001b[1;32m      2\u001b[0m     \u001b[0;32mwhile\u001b[0m \u001b[0;32mTrue\u001b[0m\u001b[0;34m:\u001b[0m\u001b[0;34m\u001b[0m\u001b[0;34m\u001b[0m\u001b[0m\n\u001b[1;32m      3\u001b[0m         \u001b[0mprint\u001b[0m\u001b[0;34m(\u001b[0m\u001b[0mstream\u001b[0m\u001b[0;34m.\u001b[0m\u001b[0mfilter\u001b[0m\u001b[0;34m(\u001b[0m\u001b[0mtrack\u001b[0m\u001b[0;34m=\u001b[0m\u001b[0;34m[\u001b[0m\u001b[0;34m\"videogame\"\u001b[0m\u001b[0;34m]\u001b[0m\u001b[0;34m)\u001b[0m\u001b[0;34m)\u001b[0m\u001b[0;34m\u001b[0m\u001b[0;34m\u001b[0m\u001b[0m\n\u001b[0;32m----> 4\u001b[0;31m         \u001b[0mtime\u001b[0m\u001b[0;34m.\u001b[0m\u001b[0msleep\u001b[0m\u001b[0;34m(\u001b[0m\u001b[0mn\u001b[0m\u001b[0;34m)\u001b[0m\u001b[0;34m\u001b[0m\u001b[0;34m\u001b[0m\u001b[0m\n\u001b[0m",
      "\u001b[0;31mKeyboardInterrupt\u001b[0m: "
     ]
    }
   ],
   "source": [
    "news(3600)"
   ]
  },
  {
   "cell_type": "code",
   "execution_count": null,
   "metadata": {},
   "outputs": [],
   "source": []
  }
 ],
 "metadata": {
  "kernelspec": {
   "display_name": "Python 3",
   "language": "python",
   "name": "python3"
  },
  "language_info": {
   "codemirror_mode": {
    "name": "ipython",
    "version": 3
   },
   "file_extension": ".py",
   "mimetype": "text/x-python",
   "name": "python",
   "nbconvert_exporter": "python",
   "pygments_lexer": "ipython3",
   "version": "3.7.1"
  }
 },
 "nbformat": 4,
 "nbformat_minor": 2
}
